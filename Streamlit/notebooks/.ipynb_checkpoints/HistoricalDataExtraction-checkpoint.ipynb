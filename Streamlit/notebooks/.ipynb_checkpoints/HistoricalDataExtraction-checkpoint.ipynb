{
 "cells": [
  {
   "cell_type": "code",
   "execution_count": 47,
   "id": "4b9d3347-22ca-4eab-9af6-474308093ed0",
   "metadata": {},
   "outputs": [],
   "source": [
    "import pandas as pd\n",
    "import requests\n",
    "import re\n",
    "from unidecode import unidecode"
   ]
  },
  {
   "cell_type": "code",
   "execution_count": 48,
   "id": "40e0b85f-483f-45fa-b02e-261512331d6d",
   "metadata": {},
   "outputs": [],
   "source": [
    "import understatapi\n",
    "client = understatapi.UnderstatClient()"
   ]
  },
  {
   "cell_type": "code",
   "execution_count": 49,
   "id": "2d5583e7",
   "metadata": {},
   "outputs": [],
   "source": [
    "from sqlalchemy import create_engine\n",
    "import psycopg2\n",
    "\n",
    "# Database connection settings (replace with your credentials)\n",
    "db_config = {\n",
    "    'dbname': 'understat_db',\n",
    "    'user': 'ishdeep',\n",
    "    'password': 'ichadhapg',\n",
    "    'host': 'localhost',\n",
    "    'port': 5432,\n",
    "}\n",
    "\n",
    "# Create a connection engine\n",
    "engine = create_engine(f\"postgresql+psycopg2://{db_config['user']}:{db_config['password']}@{db_config['host']}:{db_config['port']}/{db_config['dbname']}\")\n",
    "\n",
    "def save_to_postgres(dataframe, table_name):\n",
    "    try:\n",
    "        # Append data to the PostgreSQL table\n",
    "        dataframe.to_sql(table_name, engine, if_exists='append', index=False)\n",
    "        print(f\"Data successfully saved to {table_name} table.\")\n",
    "    except Exception as e:\n",
    "        print(f\"Error saving data to PostgreSQL: {e}\")\n"
   ]
  },
  {
   "cell_type": "code",
   "execution_count": 66,
   "id": "1f914112-889b-4bb8-9d0a-0c1926818998",
   "metadata": {},
   "outputs": [],
   "source": [
    "## EPL , Bundesliga , Serie_A , Ligue_1 , La_Liga\n",
    "league = \"La_Liga\"\n",
    "seasons = [\"2014\",\"2015\",\"2016\",\"2017\",\"2018\",\"2019\",\"2020\",\"2021\",\"2022\",\"2023\"]"
   ]
  },
  {
   "cell_type": "code",
   "execution_count": 67,
   "id": "c4485851-fb26-44c2-9c4b-df744cdcd8f8",
   "metadata": {},
   "outputs": [],
   "source": [
    "matches = []\n",
    "\n",
    "for season in seasons:\n",
    "    league_data = client.league(league=league).get_match_data(season=season)\n",
    "    \n",
    "    # Check if the league_data is a list\n",
    "    if isinstance(league_data, list):\n",
    "        for match in league_data:\n",
    "            if isinstance(match, dict):  # Ensure each match is a dictionary\n",
    "                match_data = {\n",
    "                    'id': match.get('id'),\n",
    "                    'home_team': match['h'].get('title') if isinstance(match.get('h'), dict) else None,\n",
    "                    'away_team': match['a'].get('title') if isinstance(match.get('a'), dict) else None,\n",
    "                    'home_goals': match['goals'].get('h') if isinstance(match.get('goals'), dict) else None,\n",
    "                    'away_goals': match['goals'].get('a') if isinstance(match.get('goals'), dict) else None,\n",
    "                    'home_xG': match['xG'].get('h') if isinstance(match.get('xG'), dict) else None,\n",
    "                    'away_xG': match['xG'].get('a') if isinstance(match.get('xG'), dict) else None,\n",
    "                    'datetime': match.get('datetime')\n",
    "                }\n",
    "                matches.append(match_data)\n",
    "            else:\n",
    "                print(f\"Unexpected match data: {match}\")\n",
    "    else:\n",
    "        print(f\"Unexpected league data structure for season {season}: {league_data}\")\n",
    "\n",
    "# Convert the list of dictionaries into a DataFrame\n",
    "matches_df = pd.DataFrame(matches)\n"
   ]
  },
  {
   "cell_type": "code",
   "execution_count": 68,
   "id": "af454b97-6c43-45fa-9963-da982c01e931",
   "metadata": {},
   "outputs": [
    {
     "data": {
      "text/html": [
       "<div>\n",
       "<style scoped>\n",
       "    .dataframe tbody tr th:only-of-type {\n",
       "        vertical-align: middle;\n",
       "    }\n",
       "\n",
       "    .dataframe tbody tr th {\n",
       "        vertical-align: top;\n",
       "    }\n",
       "\n",
       "    .dataframe thead th {\n",
       "        text-align: right;\n",
       "    }\n",
       "</style>\n",
       "<table border=\"1\" class=\"dataframe\">\n",
       "  <thead>\n",
       "    <tr style=\"text-align: right;\">\n",
       "      <th></th>\n",
       "      <th>id</th>\n",
       "      <th>home_team</th>\n",
       "      <th>away_team</th>\n",
       "      <th>home_goals</th>\n",
       "      <th>away_goals</th>\n",
       "      <th>home_xG</th>\n",
       "      <th>away_xG</th>\n",
       "      <th>datetime</th>\n",
       "    </tr>\n",
       "  </thead>\n",
       "  <tbody>\n",
       "    <tr>\n",
       "      <th>3795</th>\n",
       "      <td>23063</td>\n",
       "      <td>Real Madrid</td>\n",
       "      <td>Real Betis</td>\n",
       "      <td>0</td>\n",
       "      <td>0</td>\n",
       "      <td>1.24417</td>\n",
       "      <td>1.15552</td>\n",
       "      <td>2024-05-25 19:00:00</td>\n",
       "    </tr>\n",
       "    <tr>\n",
       "      <th>3796</th>\n",
       "      <td>23057</td>\n",
       "      <td>Getafe</td>\n",
       "      <td>Mallorca</td>\n",
       "      <td>1</td>\n",
       "      <td>2</td>\n",
       "      <td>1.07908</td>\n",
       "      <td>1.34437</td>\n",
       "      <td>2024-05-26 12:00:00</td>\n",
       "    </tr>\n",
       "    <tr>\n",
       "      <th>3797</th>\n",
       "      <td>23056</td>\n",
       "      <td>Celta Vigo</td>\n",
       "      <td>Valencia</td>\n",
       "      <td>2</td>\n",
       "      <td>2</td>\n",
       "      <td>1.50162</td>\n",
       "      <td>2.16042</td>\n",
       "      <td>2024-05-26 14:15:00</td>\n",
       "    </tr>\n",
       "    <tr>\n",
       "      <th>3798</th>\n",
       "      <td>23064</td>\n",
       "      <td>Las Palmas</td>\n",
       "      <td>Alaves</td>\n",
       "      <td>1</td>\n",
       "      <td>1</td>\n",
       "      <td>1.15618</td>\n",
       "      <td>2.23542</td>\n",
       "      <td>2024-05-26 14:15:00</td>\n",
       "    </tr>\n",
       "    <tr>\n",
       "      <th>3799</th>\n",
       "      <td>23062</td>\n",
       "      <td>Sevilla</td>\n",
       "      <td>Barcelona</td>\n",
       "      <td>1</td>\n",
       "      <td>2</td>\n",
       "      <td>1.96266</td>\n",
       "      <td>1.4772</td>\n",
       "      <td>2024-05-26 19:00:00</td>\n",
       "    </tr>\n",
       "  </tbody>\n",
       "</table>\n",
       "</div>"
      ],
      "text/plain": [
       "         id    home_team   away_team home_goals away_goals  home_xG  away_xG  \\\n",
       "3795  23063  Real Madrid  Real Betis          0          0  1.24417  1.15552   \n",
       "3796  23057       Getafe    Mallorca          1          2  1.07908  1.34437   \n",
       "3797  23056   Celta Vigo    Valencia          2          2  1.50162  2.16042   \n",
       "3798  23064   Las Palmas      Alaves          1          1  1.15618  2.23542   \n",
       "3799  23062      Sevilla   Barcelona          1          2  1.96266   1.4772   \n",
       "\n",
       "                 datetime  \n",
       "3795  2024-05-25 19:00:00  \n",
       "3796  2024-05-26 12:00:00  \n",
       "3797  2024-05-26 14:15:00  \n",
       "3798  2024-05-26 14:15:00  \n",
       "3799  2024-05-26 19:00:00  "
      ]
     },
     "execution_count": 68,
     "metadata": {},
     "output_type": "execute_result"
    }
   ],
   "source": [
    "matches_df.tail()"
   ]
  },
  {
   "cell_type": "code",
   "execution_count": 69,
   "id": "9f010c70-7e04-4e5e-9071-2dbb764c5cb9",
   "metadata": {},
   "outputs": [],
   "source": [
    "all_shot_data = []\n",
    "\n",
    "import datetime\n",
    "\n",
    "current_timestamp = datetime.datetime.now().timestamp()\n",
    "\n",
    "for index,row in matches_df.iterrows():\n",
    "    match_datetime = pd.to_datetime(row['datetime']).timestamp()\n",
    "    \n",
    "    if match_datetime <= current_timestamp:\n",
    "        #print(row['id'])\n",
    "        try:\n",
    "            shot_data = client.match(match=row['id']).get_shot_data()\n",
    "        except Exception as e:\n",
    "            print(e)\n",
    "        all_shot_data.append(shot_data)"
   ]
  },
  {
   "cell_type": "code",
   "execution_count": 70,
   "id": "8c7d1f47-0fa5-43e0-86c0-b1b5a5362047",
   "metadata": {},
   "outputs": [],
   "source": [
    "# Initialize an empty list to hold individual shot records\n",
    "compiled_shot_data = []\n",
    "\n",
    "# Loop through each match in `all_shot_data`\n",
    "for match in all_shot_data:\n",
    "    # Get home shots and away shots from the match\n",
    "    home_shots = match.get('h', [])\n",
    "    away_shots = match.get('a', [])\n",
    "    \n",
    "    # Add a column to indicate if it's a home or away shot, then extend our list\n",
    "    for shot in home_shots:\n",
    "        shot['h_a'] = 'h'  # Indicate as home shot\n",
    "        compiled_shot_data.append(shot)\n",
    "    \n",
    "    for shot in away_shots:\n",
    "        shot['h_a'] = 'a'  # Indicate as away shot\n",
    "        compiled_shot_data.append(shot)\n",
    "\n",
    "# Convert the list of shot records to a DataFrame\n",
    "compiled_shot_df = pd.DataFrame(compiled_shot_data)"
   ]
  },
  {
   "cell_type": "code",
   "execution_count": 71,
   "id": "e2f52b8e-42f5-4c4e-a6d6-2e143084c72d",
   "metadata": {},
   "outputs": [],
   "source": [
    "compiled_shot_df['league'] = league"
   ]
  },
  {
   "cell_type": "code",
   "execution_count": 72,
   "id": "e38d1037-304b-4490-8888-1fa67f6654a3",
   "metadata": {},
   "outputs": [],
   "source": [
    "compiled_shot_df = compiled_shot_df.drop_duplicates()"
   ]
  },
  {
   "cell_type": "code",
   "execution_count": 73,
   "id": "2b0b1a5a-eeb3-40b9-b514-c7eb1296103b",
   "metadata": {},
   "outputs": [
    {
     "name": "stdout",
     "output_type": "stream",
     "text": [
      "Data successfully saved to understat_shots_tb table.\n"
     ]
    }
   ],
   "source": [
    "#compiled_shot_df.to_csv(f'C:/Users/acer/Documents/GitHub/IndianCitizen/ScorePredict/Data/{league}/2024-25/shot_data.csv')\n",
    "try:\n",
    "    save_to_postgres(compiled_shot_df, 'understat_shots_tb')\n",
    "except Exception as e:\n",
    "    print(e)"
   ]
  },
  {
   "cell_type": "code",
   "execution_count": null,
   "id": "558a9c89-4884-4dbc-b170-468feea75541",
   "metadata": {},
   "outputs": [],
   "source": []
  }
 ],
 "metadata": {
  "kernelspec": {
   "display_name": "Python 3 (ipykernel)",
   "language": "python",
   "name": "python3"
  },
  "language_info": {
   "codemirror_mode": {
    "name": "ipython",
    "version": 3
   },
   "file_extension": ".py",
   "mimetype": "text/x-python",
   "name": "python",
   "nbconvert_exporter": "python",
   "pygments_lexer": "ipython3",
   "version": "3.10.7"
  }
 },
 "nbformat": 4,
 "nbformat_minor": 5
}
